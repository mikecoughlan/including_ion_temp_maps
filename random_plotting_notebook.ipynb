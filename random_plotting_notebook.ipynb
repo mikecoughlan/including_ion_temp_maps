{
 "cells": [
  {
   "cell_type": "code",
   "execution_count": 1,
   "metadata": {},
   "outputs": [
    {
     "name": "stderr",
     "output_type": "stream",
     "text": [
      "/home/mcoughlan/anaconda3/envs/pytorch/lib/python3.11/site-packages/pandas/core/arrays/masked.py:60: UserWarning: Pandas requires version '1.3.6' or newer of 'bottleneck' (version '1.3.5' currently installed).\n",
      "  from pandas.core import (\n",
      "/home/mcoughlan/anaconda3/envs/pytorch/lib/python3.11/site-packages/spacepy/time.py:2367: UserWarning: Leapseconds may be out of date. Use spacepy.toolbox.update(leapsecs=True)\n",
      "  warnings.warn('Leapseconds may be out of date.'\n"
     ]
    }
   ],
   "source": [
    "import pickle\n",
    "import pandas as pd\n",
    "import numpy as np\n",
    "import matplotlib.pyplot as plt\n",
    "import matplotlib as mpl\n",
    "import seaborn as sns\n",
    "import os\n",
    "import gc\n",
    "import glob\n",
    "import torch\n",
    "import math\n",
    "import utils\n",
    "from scipy.special import erf\n",
    "from sklearn.calibration import calibration_curve\n",
    "from sklearn.metrics import (auc, brier_score_loss, confusion_matrix,\n",
    "                             mean_absolute_error, mean_squared_error,\n",
    "                             precision_recall_curve, r2_score, roc_curve,\n",
    "\t\t\t\t\t\t\t precision_score, recall_score, f1_score,\n",
    "                             mutual_info_score)\n",
    "from sklearn.feature_selection import mutual_info_regression, r_regression\n",
    "from scipy.stats import entropy\n",
    "import utils"
   ]
  },
  {
   "cell_type": "code",
   "execution_count": 2,
   "metadata": {},
   "outputs": [],
   "source": [
    "model_type = 'swmag'\n",
    "shap_dir = 'outputs/shap_values'\n",
    "scaler_dir = 'outputs/scalers'\n",
    "results_dir = 'outputs/rsd'\n",
    "dbht_results_dir = 'outputs/dbht_max'\n",
    "VERSION = 'swmag_v6-1'\n",
    "shap_files = glob.glob(f'{shap_dir}/*{VERSION}*.pkl')\n",
    "scaler_files = glob.glob(f'{scaler_dir}/*{VERSION}.pkl')\n",
    "results_files = glob.glob(f'{scaler_dir}/*{VERSION}.feather')\n",
    "with open('cluster_dict.pkl', 'rb') as f:\n",
    "\tcluster_dict = pickle.load(f)"
   ]
  },
  {
   "cell_type": "code",
   "execution_count": 4,
   "metadata": {},
   "outputs": [
    {
     "name": "stdout",
     "output_type": "stream",
     "text": [
      "Forecast: 1, Window: 30, Classification: False\n",
      "Loading station NEW....\n",
      "Loading station T19....\n",
      "Loading station C10....\n",
      "Loading station LET....\n",
      "Loading station T03....\n",
      "Loading station T43....\n",
      "region keys: dict_keys(['stations', 'mlt_station'])\n",
      "MLT station already defined for region CAN-0\n"
     ]
    },
    {
     "name": "stderr",
     "output_type": "stream",
     "text": [
      "/home/mcoughlan/projects/including_ion_temp_maps/utils.py:471: FutureWarning: The behavior of DataFrame.idxmax with all-NA values, or any-NA and skipna=False, is deprecated. In a future version this will raise ValueError\n",
      "  max_station = rsd.idxmax(axis=1)\n"
     ]
    },
    {
     "name": "stdout",
     "output_type": "stream",
     "text": [
      "Loading station NEW....\n",
      "Forecast: 1, Window: 30, Classification: False\n",
      "Loading station LET....\n",
      "Loading station T03....\n",
      "Loading station T43....\n",
      "Loading station RED....\n",
      "Loading station C06....\n",
      "region keys: dict_keys(['stations', 'mlt_station'])\n",
      "MLT station already defined for region CAN-1\n"
     ]
    },
    {
     "name": "stderr",
     "output_type": "stream",
     "text": [
      "/home/mcoughlan/projects/including_ion_temp_maps/utils.py:471: FutureWarning: The behavior of DataFrame.idxmax with all-NA values, or any-NA and skipna=False, is deprecated. In a future version this will raise ValueError\n",
      "  max_station = rsd.idxmax(axis=1)\n"
     ]
    },
    {
     "name": "stdout",
     "output_type": "stream",
     "text": [
      "Loading station LET....\n",
      "Forecast: 1, Window: 30, Classification: False\n",
      "Loading station T43....\n",
      "Loading station RED....\n",
      "Loading station C06....\n",
      "Loading station MEA....\n",
      "Loading station T36....\n",
      "region keys: dict_keys(['stations', 'mlt_station'])\n",
      "MLT station already defined for region CAN-2\n"
     ]
    },
    {
     "name": "stderr",
     "output_type": "stream",
     "text": [
      "/home/mcoughlan/projects/including_ion_temp_maps/utils.py:471: FutureWarning: The behavior of DataFrame.idxmax with all-NA values, or any-NA and skipna=False, is deprecated. In a future version this will raise ValueError\n",
      "  max_station = rsd.idxmax(axis=1)\n"
     ]
    },
    {
     "name": "stdout",
     "output_type": "stream",
     "text": [
      "Loading station MEA....\n",
      "Forecast: 1, Window: 30, Classification: False\n",
      "Loading station GHB....\n",
      "Loading station SKT....\n",
      "Loading station STF....\n",
      "Loading station ATU....\n",
      "region keys: dict_keys(['stations', 'mlt_station'])\n",
      "MLT station already defined for region GRL-0\n"
     ]
    },
    {
     "name": "stderr",
     "output_type": "stream",
     "text": [
      "/home/mcoughlan/projects/including_ion_temp_maps/utils.py:471: FutureWarning: The behavior of DataFrame.idxmax with all-NA values, or any-NA and skipna=False, is deprecated. In a future version this will raise ValueError\n",
      "  max_station = rsd.idxmax(axis=1)\n"
     ]
    },
    {
     "name": "stdout",
     "output_type": "stream",
     "text": [
      "Loading station STF....\n",
      "Forecast: 1, Window: 30, Classification: False\n",
      "Loading station SKT....\n",
      "Loading station STF....\n",
      "Loading station ATU....\n",
      "Loading station GDH....\n",
      "region keys: dict_keys(['stations', 'mlt_station'])\n",
      "MLT station already defined for region GRL-1\n"
     ]
    },
    {
     "name": "stderr",
     "output_type": "stream",
     "text": [
      "/home/mcoughlan/projects/including_ion_temp_maps/utils.py:471: FutureWarning: The behavior of DataFrame.idxmax with all-NA values, or any-NA and skipna=False, is deprecated. In a future version this will raise ValueError\n",
      "  max_station = rsd.idxmax(axis=1)\n"
     ]
    },
    {
     "name": "stdout",
     "output_type": "stream",
     "text": [
      "Loading station GDH....\n",
      "Forecast: 1, Window: 30, Classification: False\n",
      "Loading station STF....\n",
      "Loading station ATU....\n",
      "Loading station GDH....\n",
      "Loading station UMQ....\n",
      "region keys: dict_keys(['stations', 'mlt_station'])\n",
      "MLT station already defined for region GRL-2\n"
     ]
    },
    {
     "name": "stderr",
     "output_type": "stream",
     "text": [
      "/home/mcoughlan/projects/including_ion_temp_maps/utils.py:471: FutureWarning: The behavior of DataFrame.idxmax with all-NA values, or any-NA and skipna=False, is deprecated. In a future version this will raise ValueError\n",
      "  max_station = rsd.idxmax(axis=1)\n"
     ]
    },
    {
     "name": "stdout",
     "output_type": "stream",
     "text": [
      "Loading station GDH....\n",
      "Forecast: 1, Window: 30, Classification: False\n",
      "Loading station GHB....\n",
      "Loading station FHB....\n",
      "Loading station NAQ....\n",
      "region keys: dict_keys(['stations', 'mlt_station'])\n",
      "MLT station already defined for region GRL-3\n"
     ]
    },
    {
     "name": "stderr",
     "output_type": "stream",
     "text": [
      "/home/mcoughlan/projects/including_ion_temp_maps/utils.py:471: FutureWarning: The behavior of DataFrame.idxmax with all-NA values, or any-NA and skipna=False, is deprecated. In a future version this will raise ValueError\n",
      "  max_station = rsd.idxmax(axis=1)\n"
     ]
    },
    {
     "name": "stdout",
     "output_type": "stream",
     "text": [
      "Loading station NAQ....\n",
      "Forecast: 1, Window: 30, Classification: False\n",
      "Loading station RVK....\n",
      "Loading station LYC....\n",
      "Loading station DON....\n",
      "Loading station JCK....\n",
      "region keys: dict_keys(['stations', 'mlt_station'])\n",
      "MLT station already defined for region FSC-0\n"
     ]
    },
    {
     "name": "stderr",
     "output_type": "stream",
     "text": [
      "/home/mcoughlan/projects/including_ion_temp_maps/utils.py:471: FutureWarning: The behavior of DataFrame.idxmax with all-NA values, or any-NA and skipna=False, is deprecated. In a future version this will raise ValueError\n",
      "  max_station = rsd.idxmax(axis=1)\n"
     ]
    },
    {
     "name": "stdout",
     "output_type": "stream",
     "text": [
      "Loading station LYC....\n",
      "Forecast: 1, Window: 30, Classification: False\n",
      "Loading station HAN....\n",
      "Loading station MEK....\n",
      "Loading station OUJ....\n",
      "Loading station NUR....\n",
      "region keys: dict_keys(['stations', 'mlt_station'])\n",
      "MLT station already defined for region FSC-1\n"
     ]
    },
    {
     "name": "stderr",
     "output_type": "stream",
     "text": [
      "/home/mcoughlan/projects/including_ion_temp_maps/utils.py:471: FutureWarning: The behavior of DataFrame.idxmax with all-NA values, or any-NA and skipna=False, is deprecated. In a future version this will raise ValueError\n",
      "  max_station = rsd.idxmax(axis=1)\n"
     ]
    },
    {
     "name": "stdout",
     "output_type": "stream",
     "text": [
      "Loading station NUR....\n",
      "Forecast: 1, Window: 30, Classification: False\n",
      "Loading station MAS....\n",
      "Loading station NOR....\n",
      "Loading station IVA....\n",
      "Loading station KEV....\n",
      "Loading station KIL....\n",
      "Loading station MUO....\n",
      "Loading station SOR....\n",
      "Loading station TRO....\n",
      "Loading station ABK....\n",
      "Loading station KIR....\n",
      "region keys: dict_keys(['stations', 'mlt_station'])\n",
      "MLT station already defined for region FSC-2\n"
     ]
    },
    {
     "name": "stderr",
     "output_type": "stream",
     "text": [
      "/home/mcoughlan/projects/including_ion_temp_maps/utils.py:471: FutureWarning: The behavior of DataFrame.idxmax with all-NA values, or any-NA and skipna=False, is deprecated. In a future version this will raise ValueError\n",
      "  max_station = rsd.idxmax(axis=1)\n"
     ]
    },
    {
     "name": "stdout",
     "output_type": "stream",
     "text": [
      "Loading station ABK....\n",
      "Forecast: 1, Window: 30, Classification: False\n",
      "Loading station MAS....\n",
      "Loading station AND....\n",
      "Loading station KIL....\n",
      "Loading station MUO....\n",
      "Loading station SOR....\n",
      "Loading station TRO....\n",
      "Loading station ABK....\n",
      "Loading station KIR....\n",
      "region keys: dict_keys(['stations', 'mlt_station'])\n",
      "MLT station already defined for region FSC-3\n"
     ]
    },
    {
     "name": "stderr",
     "output_type": "stream",
     "text": [
      "/home/mcoughlan/projects/including_ion_temp_maps/utils.py:471: FutureWarning: The behavior of DataFrame.idxmax with all-NA values, or any-NA and skipna=False, is deprecated. In a future version this will raise ValueError\n",
      "  max_station = rsd.idxmax(axis=1)\n"
     ]
    },
    {
     "name": "stdout",
     "output_type": "stream",
     "text": [
      "Loading station ABK....\n",
      "Forecast: 1, Window: 30, Classification: False\n",
      "Loading station MAS....\n",
      "Loading station SOD....\n",
      "Loading station IVA....\n",
      "Loading station KEV....\n",
      "Loading station KIL....\n",
      "Loading station MUO....\n",
      "Loading station ABK....\n",
      "Loading station KIR....\n",
      "Loading station PEL....\n",
      "region keys: dict_keys(['stations', 'mlt_station'])\n",
      "MLT station already defined for region FSC-4\n"
     ]
    },
    {
     "name": "stderr",
     "output_type": "stream",
     "text": [
      "/home/mcoughlan/projects/including_ion_temp_maps/utils.py:471: FutureWarning: The behavior of DataFrame.idxmax with all-NA values, or any-NA and skipna=False, is deprecated. In a future version this will raise ValueError\n",
      "  max_station = rsd.idxmax(axis=1)\n"
     ]
    },
    {
     "name": "stdout",
     "output_type": "stream",
     "text": [
      "Loading station ABK....\n",
      "Forecast: 1, Window: 30, Classification: False\n",
      "Loading station JCK....\n",
      "Loading station DON....\n",
      "Loading station ABK....\n",
      "Loading station KIR....\n",
      "Loading station LYC....\n",
      "region keys: dict_keys(['stations', 'mlt_station'])\n",
      "MLT station already defined for region FSC-5\n"
     ]
    },
    {
     "name": "stderr",
     "output_type": "stream",
     "text": [
      "/home/mcoughlan/projects/including_ion_temp_maps/utils.py:471: FutureWarning: The behavior of DataFrame.idxmax with all-NA values, or any-NA and skipna=False, is deprecated. In a future version this will raise ValueError\n",
      "  max_station = rsd.idxmax(axis=1)\n"
     ]
    },
    {
     "name": "stdout",
     "output_type": "stream",
     "text": [
      "Loading station ABK....\n",
      "Forecast: 1, Window: 30, Classification: False\n",
      "Loading station MAS....\n",
      "Loading station AND....\n",
      "Loading station KIL....\n",
      "Loading station MUO....\n",
      "Loading station JCK....\n",
      "Loading station TRO....\n",
      "Loading station ABK....\n",
      "Loading station KIR....\n",
      "Loading station PEL....\n",
      "region keys: dict_keys(['stations', 'mlt_station'])\n",
      "MLT station already defined for region FSC-6\n"
     ]
    },
    {
     "name": "stderr",
     "output_type": "stream",
     "text": [
      "/home/mcoughlan/projects/including_ion_temp_maps/utils.py:471: FutureWarning: The behavior of DataFrame.idxmax with all-NA values, or any-NA and skipna=False, is deprecated. In a future version this will raise ValueError\n",
      "  max_station = rsd.idxmax(axis=1)\n"
     ]
    },
    {
     "name": "stdout",
     "output_type": "stream",
     "text": [
      "Loading station ABK....\n",
      "Forecast: 1, Window: 30, Classification: False\n",
      "Loading station ZAG....\n",
      "Loading station LVV....\n",
      "Loading station BEL....\n",
      "Loading station VYH....\n",
      "region keys: dict_keys(['stations', 'mlt_station'])\n",
      "MLT station already defined for region CEU-0\n"
     ]
    },
    {
     "name": "stderr",
     "output_type": "stream",
     "text": [
      "/home/mcoughlan/projects/including_ion_temp_maps/utils.py:471: FutureWarning: The behavior of DataFrame.idxmax with all-NA values, or any-NA and skipna=False, is deprecated. In a future version this will raise ValueError\n",
      "  max_station = rsd.idxmax(axis=1)\n"
     ]
    },
    {
     "name": "stdout",
     "output_type": "stream",
     "text": [
      "Loading station BEL....\n",
      "Forecast: 1, Window: 30, Classification: False\n",
      "Loading station BEL....\n",
      "Loading station HLP....\n",
      "Loading station SZC....\n",
      "Loading station KLD....\n",
      "region keys: dict_keys(['stations', 'mlt_station'])\n",
      "MLT station already defined for region CEU-1\n"
     ]
    },
    {
     "name": "stderr",
     "output_type": "stream",
     "text": [
      "/home/mcoughlan/projects/including_ion_temp_maps/utils.py:471: FutureWarning: The behavior of DataFrame.idxmax with all-NA values, or any-NA and skipna=False, is deprecated. In a future version this will raise ValueError\n",
      "  max_station = rsd.idxmax(axis=1)\n"
     ]
    },
    {
     "name": "stdout",
     "output_type": "stream",
     "text": [
      "Loading station BEL....\n",
      "Forecast: 1, Window: 30, Classification: False\n",
      "Loading station THY....\n",
      "Loading station BDV....\n",
      "Loading station WIC....\n",
      "Loading station NCK....\n",
      "Loading station HRB....\n",
      "region keys: dict_keys(['stations', 'mlt_station'])\n",
      "MLT station already defined for region CEU-2\n"
     ]
    },
    {
     "name": "stderr",
     "output_type": "stream",
     "text": [
      "/home/mcoughlan/projects/including_ion_temp_maps/utils.py:471: FutureWarning: The behavior of DataFrame.idxmax with all-NA values, or any-NA and skipna=False, is deprecated. In a future version this will raise ValueError\n",
      "  max_station = rsd.idxmax(axis=1)\n"
     ]
    },
    {
     "name": "stdout",
     "output_type": "stream",
     "text": [
      "Loading station HRB....\n",
      "Forecast: 1, Window: 30, Classification: False\n",
      "Loading station ROE....\n",
      "Loading station BFE....\n",
      "Loading station WNG....\n",
      "region keys: dict_keys(['stations', 'mlt_station'])\n",
      "MLT station already defined for region CEU-3\n"
     ]
    },
    {
     "name": "stderr",
     "output_type": "stream",
     "text": [
      "/home/mcoughlan/projects/including_ion_temp_maps/utils.py:471: FutureWarning: The behavior of DataFrame.idxmax with all-NA values, or any-NA and skipna=False, is deprecated. In a future version this will raise ValueError\n",
      "  max_station = rsd.idxmax(axis=1)\n"
     ]
    },
    {
     "name": "stdout",
     "output_type": "stream",
     "text": [
      "Loading station WNG....\n",
      "Forecast: 1, Window: 30, Classification: False\n",
      "Loading station BBG....\n",
      "Loading station LYR....\n",
      "Loading station HOR....\n",
      "Loading station NAL....\n",
      "Loading station HRN....\n",
      "Loading station HOP....\n",
      "region keys: dict_keys(['stations', 'mlt_station'])\n",
      "MLT station already defined for region SVLB\n"
     ]
    },
    {
     "name": "stderr",
     "output_type": "stream",
     "text": [
      "/home/mcoughlan/projects/including_ion_temp_maps/utils.py:471: FutureWarning: The behavior of DataFrame.idxmax with all-NA values, or any-NA and skipna=False, is deprecated. In a future version this will raise ValueError\n",
      "  max_station = rsd.idxmax(axis=1)\n"
     ]
    },
    {
     "name": "stdout",
     "output_type": "stream",
     "text": [
      "Loading station HRN....\n",
      "Forecast: 1, Window: 30, Classification: False\n",
      "Loading station KUJ....\n",
      "Loading station KNY....\n",
      "Loading station KAG....\n",
      "region keys: dict_keys(['stations', 'mlt_station'])\n",
      "MLT station already defined for region JPN-0\n"
     ]
    },
    {
     "name": "stderr",
     "output_type": "stream",
     "text": [
      "/home/mcoughlan/projects/including_ion_temp_maps/utils.py:471: FutureWarning: The behavior of DataFrame.idxmax with all-NA values, or any-NA and skipna=False, is deprecated. In a future version this will raise ValueError\n",
      "  max_station = rsd.idxmax(axis=1)\n"
     ]
    },
    {
     "name": "stdout",
     "output_type": "stream",
     "text": [
      "Loading station KNY....\n",
      "Forecast: 1, Window: 30, Classification: False\n",
      "Loading station MMB....\n",
      "Loading station ASB....\n",
      "Loading station RIK....\n",
      "Loading station MSR....\n",
      "region keys: dict_keys(['stations', 'mlt_station'])\n",
      "MLT station already defined for region JPN-1\n"
     ]
    },
    {
     "name": "stderr",
     "output_type": "stream",
     "text": [
      "/home/mcoughlan/projects/including_ion_temp_maps/utils.py:471: FutureWarning: The behavior of DataFrame.idxmax with all-NA values, or any-NA and skipna=False, is deprecated. In a future version this will raise ValueError\n",
      "  max_station = rsd.idxmax(axis=1)\n"
     ]
    },
    {
     "name": "stdout",
     "output_type": "stream",
     "text": [
      "Loading station MMB....\n",
      "Forecast: 1, Window: 30, Classification: False\n",
      "Loading station CMO....\n",
      "Loading station FYU....\n",
      "Loading station PKR....\n",
      "Loading station GAK....\n",
      "region keys: dict_keys(['stations', 'mlt_station'])\n",
      "MLT station already defined for region ALSK\n"
     ]
    },
    {
     "name": "stderr",
     "output_type": "stream",
     "text": [
      "/home/mcoughlan/projects/including_ion_temp_maps/utils.py:471: FutureWarning: The behavior of DataFrame.idxmax with all-NA values, or any-NA and skipna=False, is deprecated. In a future version this will raise ValueError\n",
      "  max_station = rsd.idxmax(axis=1)\n"
     ]
    },
    {
     "name": "stdout",
     "output_type": "stream",
     "text": [
      "Loading station CMO....\n",
      "Forecast: 1, Window: 30, Classification: False\n",
      "Loading station PIN....\n",
      "Loading station ISL....\n",
      "Loading station C05....\n",
      "region keys: dict_keys(['stations', 'mlt_station'])\n",
      "MLT station already defined for region HUD-0\n"
     ]
    },
    {
     "name": "stderr",
     "output_type": "stream",
     "text": [
      "/home/mcoughlan/projects/including_ion_temp_maps/utils.py:471: FutureWarning: The behavior of DataFrame.idxmax with all-NA values, or any-NA and skipna=False, is deprecated. In a future version this will raise ValueError\n",
      "  max_station = rsd.idxmax(axis=1)\n"
     ]
    },
    {
     "name": "stdout",
     "output_type": "stream",
     "text": [
      "Loading station PIN....\n",
      "Forecast: 1, Window: 30, Classification: False\n",
      "Loading station FCC....\n",
      "Loading station EKP....\n",
      "Loading station RAN....\n",
      "Loading station BLC....\n",
      "region keys: dict_keys(['stations', 'mlt_station'])\n",
      "MLT station already defined for region HUD-1\n"
     ]
    },
    {
     "name": "stderr",
     "output_type": "stream",
     "text": [
      "/home/mcoughlan/projects/including_ion_temp_maps/utils.py:471: FutureWarning: The behavior of DataFrame.idxmax with all-NA values, or any-NA and skipna=False, is deprecated. In a future version this will raise ValueError\n",
      "  max_station = rsd.idxmax(axis=1)\n"
     ]
    },
    {
     "name": "stdout",
     "output_type": "stream",
     "text": [
      "Loading station BLC....\n"
     ]
    }
   ],
   "source": [
    "rsd_results_df = pd.DataFrame()\n",
    "for cluster in cluster_dict.keys():\n",
    "\tfor key, value in cluster_dict[cluster]['regions'].items():\n",
    "\t\t# loading all the datasets and dictonaries\n",
    "\t\tRP = utils.RegionPreprocessing(cluster=cluster, region=key,\n",
    "\t\t\t\t\t\t\t\t\t\tfeatures=['dbht'],\n",
    "\t\t\t\t\t\t\t\t\t\tmean=False, std=False, maximum=False, median=False,\n",
    "\t\t\t\t\t\t\t\t\t\tforecast=1, window=30, classification=False)\n",
    "\t\tdf = RP()\n",
    "\t\tloc_df = utils.loading_supermag(value['mlt_station'])\n",
    "\t\tloc_df = loc_df[['MLAT']]\n",
    "\t\tdf = pd.merge(df, loc_df, left_index=True, right_index=True)\n",
    "\t\tdf = df[['rsd', 'MLT', 'MLAT']]\n",
    "\t\tdf = df.dropna()\n",
    "\n",
    "\t\trsd_results_df = pd.concat([rsd_results_df, df])"
   ]
  },
  {
   "cell_type": "code",
   "execution_count": 6,
   "metadata": {},
   "outputs": [],
   "source": [
    "rsd_results_df['MLT'] = rsd_results_df['MLT'].round(0)\n",
    "rsd_results_df.loc[rsd_results_df['MLT'] == 24, 'MLT'] = 0\n",
    "\n",
    "lower_lat_bound = 55\n",
    "upper_lat_bound = 65\n",
    "\n",
    "low_rsd_results_df = rsd_results_df[rsd_results_df['MLAT'] < lower_lat_bound]\n",
    "\n",
    "mid_rsd_results_df = rsd_results_df[(rsd_results_df['MLAT'] >= lower_lat_bound) & (rsd_results_df['MLAT'] <= upper_lat_bound)]\n",
    "\n",
    "high_rsd_results_df = rsd_results_df[rsd_results_df['MLAT'] > upper_lat_bound]\n",
    "\n",
    "rsd_dict = {}\n",
    "rsd_list, names = [low_rsd_results_df, mid_rsd_results_df, high_rsd_results_df], ['low', 'mid', 'high']\n",
    "\n",
    "for i, (rsd_df, name) in enumerate(zip(rsd_list, names)):\n",
    "\trsd_dict[name] = {}\n",
    "\tfor j in range(0, 24):\n",
    "\t\trsd_dict[name][j] = {}\n",
    "\t\trsd_temp = rsd_df[rsd_df['MLT'] == j]\n",
    "\t\t# calculating the PRAUC \n",
    "\t\trsd_dict[name][j]['mean'] = rsd_temp['rsd'].mean()\n",
    "\t\trsd_dict[name][j]['std'] = rsd_temp['rsd'].std()\n",
    "\t\trsd_dict[name][j]['median'] = rsd_temp['rsd'].median()"
   ]
  },
  {
   "cell_type": "code",
   "execution_count": 22,
   "metadata": {},
   "outputs": [
    {
     "data": {
      "image/png": "[encoded data removed]",
      "text/plain": [
       "<Figure size 2000x1500 with 4 Axes>"
      ]
     },
     "metadata": {},
     "output_type": "display_data"
    }
   ],
   "source": [
    "# printing the results for the prauc and rocauc for the dbht and rsd models as a heatmap\n",
    "\n",
    "mean_rsd_df = pd.DataFrame(index = range(24), columns = ['low', 'mid', 'high'])\n",
    "std_rsd_df = pd.DataFrame(index = range(24), columns = ['low', 'mid', 'high'])\n",
    "median_rsd_df = pd.DataFrame(index = range(24), columns = ['low', 'mid', 'high'])\n",
    "\n",
    "\n",
    "for i, (rsd_df, name) in enumerate(zip(rsd_list, names)):\n",
    "\tfor j in range(0,24):\n",
    "\t\tmean_rsd_df.loc[j, name] = rsd_dict[name][j]['mean']\n",
    "\t\tstd_rsd_df.loc[j, name] = rsd_dict[name][j]['std']\n",
    "\t\tmedian_rsd_df.loc[j, name] = rsd_dict[name][j]['median']\n",
    "\n",
    "# convertin the values to float\n",
    "\n",
    "mean_rsd_df = mean_rsd_df.astype(float)\n",
    "std_rsd_df = std_rsd_df.astype(float)\n",
    "median_rsd_df = median_rsd_df.astype(float)\n",
    "\n",
    "# plotting the results as polar heatmap with MLT=12 at the top of the plot, low mid and high as three different rings\n",
    "rad = [0,1,2]\n",
    "theta_ticks = np.linspace(0, 2*np.pi, 8, endpoint=False)\n",
    "theta_labels = ['0', '3', '6', '9', '12', '15', '18', '21']\n",
    "\n",
    "# setting global plotting params\n",
    "mpl.rcParams['axes.linewidth'] = 0\n",
    "mpl.rcParams['font.size'] = 14\n",
    "mpl.rcParams['axes.titlesize'] = 20\n",
    "mpl.rcParams['axes.labelsize'] = 16\n",
    "mpl.rcParams['xtick.labelsize'] = 14\n",
    "\n",
    "fig, axs = plt.subplots(1, 2, figsize=(20, 15), subplot_kw=dict(projection='polar'))\n",
    "# fig.suptitle('mean RSD Max', fontsize=20)\n",
    "\n",
    "# plotting_norm = mpl.colors.LogNorm(vmin=mean_rsd_df.min().min(), vmax=mean_rsd_df.max().max())\n",
    "plotting_norm = None\n",
    "\n",
    "# Plotting the RSD\n",
    "axs[0].set_title('Mean RSD')\n",
    "axs[0].set_theta_zero_location('S')\n",
    "r,th = np.meshgrid(rad, np.linspace(0, 2*np.pi, 24, endpoint=False))\n",
    "cbar = fig.colorbar(axs[0].pcolormesh(th, r, mean_rsd_df, cmap='magma', norm=plotting_norm), ax=axs[0])\n",
    "axs[0].invert_yaxis()\n",
    "axs[0].set_xticks(theta_ticks)\n",
    "axs[0].set_xticklabels(theta_labels)\n",
    "axs[0].set_yticks([])\n",
    "cbar.set_label('nT/min')\n",
    "\n",
    "axs[1].set_title('Std RSD')\n",
    "axs[1].set_theta_zero_location('S')\n",
    "r,th = np.meshgrid(rad, np.linspace(0, 2*np.pi, 24, endpoint=False))\n",
    "cbar = fig.colorbar(axs[1].pcolormesh(th, r, std_rsd_df, cmap='magma', norm=plotting_norm), ax=axs[1])\n",
    "axs[1].invert_yaxis()\n",
    "axs[1].set_xticks(theta_ticks)\n",
    "axs[1].set_xticklabels(theta_labels)\n",
    "axs[1].set_yticks([])\n",
    "cbar.set_label('nT/min')\n",
    "\n",
    "\n",
    "plt.show()\n"
   ]
  },
  {
   "cell_type": "code",
   "execution_count": null,
   "metadata": {},
   "outputs": [],
   "source": []
  }
 ],
 "metadata": {
  "kernelspec": {
   "display_name": "Python 3",
   "language": "python",
   "name": "python3"
  },
  "language_info": {
   "codemirror_mode": {
    "name": "ipython",
    "version": 3
   },
   "file_extension": ".py",
   "mimetype": "text/x-python",
   "name": "python",
   "nbconvert_exporter": "python",
   "pygments_lexer": "ipython3",
   "version": "3.11.7"
  }
 },
 "nbformat": 4,
 "nbformat_minor": 2
}
