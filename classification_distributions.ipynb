{
 "cells": [
  {
   "cell_type": "code",
   "execution_count": null,
   "metadata": {},
   "outputs": [],
   "source": [
    "import pandas as pd\n",
    "import numpy as np\n",
    "import matplotlib.pyplot as plt\n",
    "import pickle\n",
    "import os\n",
    "from tqdm import tqdm\n",
    "\n",
    "import utils"
   ]
  },
  {
   "cell_type": "code",
   "execution_count": null,
   "metadata": {},
   "outputs": [],
   "source": [
    "clusters = {\n",
    "\t'canadian_cluster':{\n",
    "\t\t'regions':{\n",
    "\t\t'CAN-0': {'stations':['NEW', 'T19', 'C10', 'LET', 'T03', 'T43']},\n",
    "\t\t'CAN-1': {'stations':['LET', 'T03', 'T43', 'RED', 'C06']},\n",
    "\t\t'CAN-2': {'stations':['T43', 'RED', 'C06', 'MEA', 'T36']}\n",
    "\t\t}\n",
    "\t},\n",
    "\t'greenland_cluster':{\n",
    "\t\t'regions':{\n",
    "\t\t'GRL-0': {'stations':['GHB', 'SKT', 'STF', 'ATU']},\n",
    "\t\t'GRL-1': {'stations':['SKT', 'STF', 'ATU', 'GDH']},\n",
    "\t\t'GRL-2': {'stations':['STF', 'ATU', 'GDH', 'UMQ']},\n",
    "\t\t'GRL-3': {'stations':['GHB', 'FHB', 'NAQ']},\n",
    "\t\t}\n",
    "\t},\n",
    "\t'fennoscandinavian_cluster':{\n",
    "\t\t'regions':{\n",
    "\t\t'FSC-0': {'stations':['RVK', 'LYC', 'DON', 'JCK']},\n",
    "\t\t'FSC-1': {'stations':['HAN', 'MEK', 'OUJ', 'NUR']},\n",
    "\t\t'FSC-2': {'stations':['MAS', 'NOR', 'IVA', 'KEV', 'KIL', 'MUO', 'SOR', 'TRO', 'ABK', 'KIR']},\n",
    "\t\t'FSC-3': {'stations':['MAS', 'AND', 'KIL', 'MUO', 'SOR', 'TRO', 'ABK', 'KIR']},\n",
    "\t\t'FSC-4': {'stations':['MAS', 'SOD', 'IVA', 'KEV', 'KIL', 'MUO', 'ABK', 'KIR', 'PEL']},\n",
    "\t\t'FSC-5': {'stations':['JCK', 'DON', 'ABK', 'KIR', 'LYC']},\n",
    "\t\t'FSC-6': {'stations':['MAS', 'AND', 'KIL', 'MUO', 'JCK', 'TRO', 'ABK', 'KIR', 'PEL']},\n",
    "\t\t}\n",
    "\t},\n",
    "\t'central_european_cluster':{\n",
    "\t\t'regions':{\n",
    "\t\t'CEU-0': {'stations':['ZAG', 'LVV', 'BEL', 'VYH']},\n",
    "\t\t'CEU-1': {'stations':['BEL', 'HLP', 'SZC', 'KLD']},\n",
    "\t\t'CEU-2': {'stations':['THY', 'BDV', 'WIC', 'NCK', 'HRB']},\n",
    "\t\t'CEU-3': {'stations':['ROE', 'BFE', 'WNG']},\n",
    "\t\t}\n",
    "\t},\n",
    "\t'non_cluster_regions':{\n",
    "\t\t'regions':{\n",
    "\t\t'SVLB': {'stations':['BBG', 'LYR', 'HOR', 'NAL', 'HRN', 'HOP']},\n",
    "\t\t'JPN-0': {'stations':['KUJ', 'KNY', 'KAG']},\n",
    "\t\t'JPN-1': {'stations':['MMB', 'ASB', 'RIK', 'MSR']},\n",
    "\t\t'ALSK': {'stations':['CMO', 'FYU', 'PKR', 'GAK']},\n",
    "\t\t'HUD-0': {'stations':['PIN', 'ISL', 'C05']},\n",
    "\t\t'HUD-1': {'stations':['FCC', 'EKP', 'RAN', 'BLC']},\n",
    "\t\t}\n",
    "\t}\n",
    "}\n",
    "forecasts = [1, 5, 10, 15, 20, 25, 30]\n",
    "windows = [1, 5, 10, 15, 20, 25, 30]\n"
   ]
  },
  {
   "cell_type": "code",
   "execution_count": null,
   "metadata": {},
   "outputs": [],
   "source": [
    "def getting_storm_times(df, lead=24, recovery=48, twins=False, target_var=None, map_keys=None, classification=False):\n",
    "\n",
    "\t'''\n",
    "\tPulling out storms using a defined list of datetime strings, adding a lead and recovery time to it and\n",
    "\tappending each storm to a list which will be later processed.\n",
    "\n",
    "\tArgs:\n",
    "\t\tdata (list of pd.dataframes): ACE and supermag data with the test set's already removed.\n",
    "\t\tlead (int): how much time in hours to add to the beginning of the storm.\n",
    "\t\trecovery (int): how much recovery time in hours to add to the end of the storm.\n",
    "\t\tsw_only (bool): True if this is the solar wind only data, will drop dbht from the feature list.\n",
    "\n",
    "\tReturns:\n",
    "\t\tlist: ace and supermag dataframes for storm times\n",
    "\t\tlist: np.arrays of shape (n,2) containing a one hot encoded boolean target array\n",
    "\t'''\n",
    "\n",
    "\t# setting the datetime index\n",
    "\tif 'Date_UTC' in df.columns:\n",
    "\t\tpd.to_datetime(df['Date_UTC'], format='%Y-%m-%d %H:%M:%S')\n",
    "\t\tdf.reset_index(drop=True, inplace=True)\n",
    "\t\tdf.set_index('Date_UTC', inplace=True, drop=True)\n",
    "\telse:\n",
    "\t\tprint('Date_UTC not in columns. Check to make sure index is datetime not integer.')\n",
    "\n",
    "\tdf.index = pd.to_datetime(df.index)\n",
    "\n",
    "\t# loading the storm list\n",
    "\tif twins and map_keys is None:\n",
    "\t\tstorm_list = pd.read_feather('outputs/regular_twins_map_dates.feather', columns=['dates'])\n",
    "\t\tstorm_list = storm_list['dates']\n",
    "\telif twins and map_keys is not None:\n",
    "\t\tstorm_list = pd.DataFrame({'dates':[pd.to_datetime(key, format='%Y-%m-%d %H:%M:%S') for key in map_keys]})\n",
    "\t\tstorm_list = storm_list['dates']\n",
    "\telse:\n",
    "\t\tstorm_list = pd.read_csv('stormList.csv', header=None, names=['dates'])\n",
    "\t\tstorm_list = storm_list['Date_UTC']\n",
    "\n",
    "\tstime, etime = [], []\t\t\t\t\t# will store the resulting time stamps here then append them to the storm time df\n",
    "\n",
    "\t# will loop through the storm dates, create a datetime object for the lead and recovery time stamps and append those to different lists\n",
    "\tfor date in storm_list:\n",
    "\t\tif isinstance(date, str):\n",
    "\t\t\tdate = pd.to_datetime(date, format='%Y-%m-%d %H:%M:%S')\n",
    "\t\tif twins:\n",
    "\t\t\tstime.append(date.round('T')-pd.Timedelta(minutes=lead))\n",
    "\t\t\tetime.append(date.round('T')+pd.Timedelta(minutes=recovery))\n",
    "\t\telse:\n",
    "\t\t\tstime.append(date-pd.Timedelta(hours=lead))\n",
    "\t\t\tetime.append(date+pd.Timedelta(hours=recovery))\n",
    "\n",
    "\t# adds the time stamp lists to the storm_list dataframes\n",
    "\n",
    "\tstorm_list = pd.DataFrame(storm_list, columns=['dates'])\n",
    "\tstorm_list['stime'] = stime\n",
    "\tstorm_list['etime'] = etime\n",
    "\n",
    "\tstorm_list = pd.DataFrame({'stime':stime, 'etime':etime})\n",
    "\t\n",
    "\n",
    "\treturn storm_list\n",
    "\n",
    "\n",
    "def extracting_storm_only_data(df, storm_list):\n",
    "\n",
    "\tstorms = pd.DataFrame()\n",
    "\n",
    "\tfor start, end in zip(storm_list['stime'], storm_list['etime']):\t\t# looping through the storms to remove the data from the larger df\n",
    "\t\tif start < df.index[0] or end > df.index[-1]:\t\t\t\t\t\t# if the storm is outside the range of the data, skip it\n",
    "\t\t\tcontinue\n",
    "\t\tstorm = df[(df.index >= start) & (df.index <= end)]\n",
    "\n",
    "\t\tif len(storm) != 0:\n",
    "\t\t\tstorms = pd.concat([storms, storm], axis=0)\n",
    "\n",
    "\treturn storms\n",
    "\t "
   ]
  },
  {
   "cell_type": "code",
   "execution_count": null,
   "metadata": {},
   "outputs": [
    {
     "name": "stderr",
     "output_type": "stream",
     "text": [
      "  0%|          | 0/5 [00:00<?, ?it/s]"
     ]
    },
    {
     "name": "stdout",
     "output_type": "stream",
     "text": [
      "{'cluster': 'canadian_cluster', 'region': 'CAN-0', 'features': ['dbht'], 'mean': False, 'std': False, 'maximum': True, 'median': False}\n",
      "{'cluster': 'canadian_cluster', 'region': 'CAN-0', 'features': ['dbht'], 'mean': False, 'std': False, 'maximum': True, 'median': False, 'forecast': 15, 'window': 15, 'classification': False}\n",
      "Forecast: 15, Window: 15, Classification: False\n",
      "Loading station NEW....\n",
      "Loading station T19....\n",
      "Loading station C10....\n",
      "Loading station LET....\n",
      "Loading station T03....\n",
      "Loading station T43....\n"
     ]
    },
    {
     "name": "stderr",
     "output_type": "stream",
     "text": [
      "/home/mcoughlan/projects/including_ion_temp_maps/utils.py:278: FutureWarning: The behavior of DataFrame.idxmax with all-NA values, or any-NA and skipna=False, is deprecated. In a future version this will raise ValueError\n",
      "  max_station = rsd.idxmax(axis=1)\n"
     ]
    },
    {
     "name": "stdout",
     "output_type": "stream",
     "text": [
      "Date_UTC not in columns. Check to make sure index is datetime not integer.\n",
      "Forecast length: 1\n",
      "Forecast length: 5\n",
      "Forecast length: 10\n",
      "Forecast length: 15\n",
      "Forecast length: 20\n",
      "Forecast length: 25\n",
      "Forecast length: 30\n",
      "Extracting storm only data...\n",
      "Forecast length: 1\n",
      "Forecast length: 5\n",
      "Forecast length: 10\n",
      "Forecast length: 15\n",
      "Forecast length: 20\n",
      "Forecast length: 25\n",
      "Forecast length: 30\n",
      "{'cluster': 'canadian_cluster', 'region': 'CAN-1', 'features': ['dbht'], 'mean': False, 'std': False, 'maximum': True, 'median': False}\n",
      "{'cluster': 'canadian_cluster', 'region': 'CAN-1', 'features': ['dbht'], 'mean': False, 'std': False, 'maximum': True, 'median': False, 'forecast': 15, 'window': 15, 'classification': False}\n",
      "Forecast: 15, Window: 15, Classification: False\n",
      "Loading station LET....\n"
     ]
    },
    {
     "name": "stderr",
     "output_type": "stream",
     "text": [
      "/tmp/ipykernel_1281710/1359451739.py:30: FutureWarning: The behavior of DataFrame concatenation with empty or all-NA entries is deprecated. In a future version, this will no longer exclude empty or all-NA columns when determining the result dtypes. To retain the old behavior, exclude the relevant entries before the concat operation.\n",
      "  ratio_df = pd.concat([ratio_df, pd.DataFrame({'forecast':forecast, 'window':window, 'percentage':ratio}, index=[0])], axis=0)\n"
     ]
    },
    {
     "name": "stdout",
     "output_type": "stream",
     "text": [
      "Loading station T03....\n",
      "Loading station T43....\n",
      "Loading station RED....\n",
      "Loading station C06....\n"
     ]
    },
    {
     "name": "stderr",
     "output_type": "stream",
     "text": [
      "/home/mcoughlan/projects/including_ion_temp_maps/utils.py:278: FutureWarning: The behavior of DataFrame.idxmax with all-NA values, or any-NA and skipna=False, is deprecated. In a future version this will raise ValueError\n",
      "  max_station = rsd.idxmax(axis=1)\n"
     ]
    },
    {
     "name": "stdout",
     "output_type": "stream",
     "text": [
      "Date_UTC not in columns. Check to make sure index is datetime not integer.\n",
      "Forecast length: 1\n",
      "Forecast length: 5\n",
      "Forecast length: 10\n",
      "Forecast length: 15\n",
      "Forecast length: 20\n",
      "Forecast length: 25\n",
      "Forecast length: 30\n",
      "Extracting storm only data...\n",
      "Forecast length: 1\n",
      "Forecast length: 5\n",
      "Forecast length: 10\n",
      "Forecast length: 15\n",
      "Forecast length: 20\n",
      "Forecast length: 25\n",
      "Forecast length: 30\n",
      "{'cluster': 'canadian_cluster', 'region': 'CAN-2', 'features': ['dbht'], 'mean': False, 'std': False, 'maximum': True, 'median': False}\n",
      "{'cluster': 'canadian_cluster', 'region': 'CAN-2', 'features': ['dbht'], 'mean': False, 'std': False, 'maximum': True, 'median': False, 'forecast': 15, 'window': 15, 'classification': False}\n",
      "Forecast: 15, Window: 15, Classification: False\n",
      "Loading station T43....\n"
     ]
    },
    {
     "name": "stderr",
     "output_type": "stream",
     "text": [
      "/tmp/ipykernel_1281710/1359451739.py:30: FutureWarning: The behavior of DataFrame concatenation with empty or all-NA entries is deprecated. In a future version, this will no longer exclude empty or all-NA columns when determining the result dtypes. To retain the old behavior, exclude the relevant entries before the concat operation.\n",
      "  ratio_df = pd.concat([ratio_df, pd.DataFrame({'forecast':forecast, 'window':window, 'percentage':ratio}, index=[0])], axis=0)\n"
     ]
    },
    {
     "name": "stdout",
     "output_type": "stream",
     "text": [
      "Loading station RED....\n",
      "Loading station C06....\n",
      "Loading station MEA....\n",
      "Loading station T36....\n"
     ]
    },
    {
     "name": "stderr",
     "output_type": "stream",
     "text": [
      "/home/mcoughlan/projects/including_ion_temp_maps/utils.py:278: FutureWarning: The behavior of DataFrame.idxmax with all-NA values, or any-NA and skipna=False, is deprecated. In a future version this will raise ValueError\n",
      "  max_station = rsd.idxmax(axis=1)\n"
     ]
    },
    {
     "name": "stdout",
     "output_type": "stream",
     "text": [
      "Date_UTC not in columns. Check to make sure index is datetime not integer.\n",
      "Forecast length: 1\n",
      "Forecast length: 5\n",
      "Forecast length: 10\n",
      "Forecast length: 15\n",
      "Forecast length: 20\n",
      "Forecast length: 25\n",
      "Forecast length: 30\n",
      "Extracting storm only data...\n"
     ]
    },
    {
     "name": "stderr",
     "output_type": "stream",
     "text": [
      "/tmp/ipykernel_1281710/1359451739.py:30: FutureWarning: The behavior of DataFrame concatenation with empty or all-NA entries is deprecated. In a future version, this will no longer exclude empty or all-NA columns when determining the result dtypes. To retain the old behavior, exclude the relevant entries before the concat operation.\n",
      "  ratio_df = pd.concat([ratio_df, pd.DataFrame({'forecast':forecast, 'window':window, 'percentage':ratio}, index=[0])], axis=0)\n",
      " 20%|██        | 1/5 [1:12:54<4:51:39, 4374.77s/it]"
     ]
    },
    {
     "name": "stdout",
     "output_type": "stream",
     "text": [
      "Forecast length: 1\n",
      "Forecast length: 5\n",
      "Forecast length: 10\n",
      "Forecast length: 15\n",
      "Forecast length: 20\n",
      "Forecast length: 25\n",
      "Forecast length: 30\n",
      "{'cluster': 'greenland_cluster', 'region': 'GRL-0', 'features': ['dbht'], 'mean': False, 'std': False, 'maximum': True, 'median': False}\n",
      "{'cluster': 'greenland_cluster', 'region': 'GRL-0', 'features': ['dbht'], 'mean': False, 'std': False, 'maximum': True, 'median': False, 'forecast': 15, 'window': 15, 'classification': False}\n",
      "Forecast: 15, Window: 15, Classification: False\n",
      "Loading station GHB....\n",
      "Loading station SKT....\n",
      "Loading station STF....\n",
      "Loading station ATU....\n"
     ]
    },
    {
     "name": "stderr",
     "output_type": "stream",
     "text": [
      "/home/mcoughlan/projects/including_ion_temp_maps/utils.py:278: FutureWarning: The behavior of DataFrame.idxmax with all-NA values, or any-NA and skipna=False, is deprecated. In a future version this will raise ValueError\n",
      "  max_station = rsd.idxmax(axis=1)\n"
     ]
    },
    {
     "name": "stdout",
     "output_type": "stream",
     "text": [
      "Date_UTC not in columns. Check to make sure index is datetime not integer.\n",
      "Forecast length: 1\n",
      "Forecast length: 5\n",
      "Forecast length: 10\n",
      "Forecast length: 15\n",
      "Forecast length: 20\n",
      "Forecast length: 25\n",
      "Forecast length: 30\n",
      "Extracting storm only data...\n",
      "Forecast length: 1\n",
      "Forecast length: 5\n",
      "Forecast length: 10\n",
      "Forecast length: 15\n",
      "Forecast length: 20\n",
      "Forecast length: 25\n",
      "Forecast length: 30\n",
      "{'cluster': 'greenland_cluster', 'region': 'GRL-1', 'features': ['dbht'], 'mean': False, 'std': False, 'maximum': True, 'median': False}\n",
      "{'cluster': 'greenland_cluster', 'region': 'GRL-1', 'features': ['dbht'], 'mean': False, 'std': False, 'maximum': True, 'median': False, 'forecast': 15, 'window': 15, 'classification': False}\n",
      "Forecast: 15, Window: 15, Classification: False\n",
      "Loading station SKT....\n"
     ]
    },
    {
     "name": "stderr",
     "output_type": "stream",
     "text": [
      "/tmp/ipykernel_1281710/1359451739.py:30: FutureWarning: The behavior of DataFrame concatenation with empty or all-NA entries is deprecated. In a future version, this will no longer exclude empty or all-NA columns when determining the result dtypes. To retain the old behavior, exclude the relevant entries before the concat operation.\n",
      "  ratio_df = pd.concat([ratio_df, pd.DataFrame({'forecast':forecast, 'window':window, 'percentage':ratio}, index=[0])], axis=0)\n"
     ]
    },
    {
     "name": "stdout",
     "output_type": "stream",
     "text": [
      "Loading station STF....\n",
      "Loading station ATU....\n",
      "Loading station GDH....\n"
     ]
    },
    {
     "name": "stderr",
     "output_type": "stream",
     "text": [
      "/home/mcoughlan/projects/including_ion_temp_maps/utils.py:278: FutureWarning: The behavior of DataFrame.idxmax with all-NA values, or any-NA and skipna=False, is deprecated. In a future version this will raise ValueError\n",
      "  max_station = rsd.idxmax(axis=1)\n"
     ]
    },
    {
     "name": "stdout",
     "output_type": "stream",
     "text": [
      "Date_UTC not in columns. Check to make sure index is datetime not integer.\n",
      "Forecast length: 1\n",
      "Forecast length: 5\n",
      "Forecast length: 10\n",
      "Forecast length: 15\n",
      "Forecast length: 20\n",
      "Forecast length: 25\n",
      "Forecast length: 30\n",
      "Extracting storm only data...\n",
      "Forecast length: 1\n",
      "Forecast length: 5\n",
      "Forecast length: 10\n",
      "Forecast length: 15\n",
      "Forecast length: 20\n",
      "Forecast length: 25\n",
      "Forecast length: 30\n",
      "{'cluster': 'greenland_cluster', 'region': 'GRL-2', 'features': ['dbht'], 'mean': False, 'std': False, 'maximum': True, 'median': False}\n",
      "{'cluster': 'greenland_cluster', 'region': 'GRL-2', 'features': ['dbht'], 'mean': False, 'std': False, 'maximum': True, 'median': False, 'forecast': 15, 'window': 15, 'classification': False}\n",
      "Forecast: 15, Window: 15, Classification: False\n",
      "Loading station STF....\n"
     ]
    },
    {
     "name": "stderr",
     "output_type": "stream",
     "text": [
      "/tmp/ipykernel_1281710/1359451739.py:30: FutureWarning: The behavior of DataFrame concatenation with empty or all-NA entries is deprecated. In a future version, this will no longer exclude empty or all-NA columns when determining the result dtypes. To retain the old behavior, exclude the relevant entries before the concat operation.\n",
      "  ratio_df = pd.concat([ratio_df, pd.DataFrame({'forecast':forecast, 'window':window, 'percentage':ratio}, index=[0])], axis=0)\n"
     ]
    },
    {
     "name": "stdout",
     "output_type": "stream",
     "text": [
      "Loading station ATU....\n",
      "Loading station GDH....\n",
      "Loading station UMQ....\n"
     ]
    },
    {
     "name": "stderr",
     "output_type": "stream",
     "text": [
      "/home/mcoughlan/projects/including_ion_temp_maps/utils.py:278: FutureWarning: The behavior of DataFrame.idxmax with all-NA values, or any-NA and skipna=False, is deprecated. In a future version this will raise ValueError\n",
      "  max_station = rsd.idxmax(axis=1)\n"
     ]
    },
    {
     "name": "stdout",
     "output_type": "stream",
     "text": [
      "Date_UTC not in columns. Check to make sure index is datetime not integer.\n",
      "Forecast length: 1\n",
      "Forecast length: 5\n",
      "Forecast length: 10\n",
      "Forecast length: 15\n",
      "Forecast length: 20\n",
      "Forecast length: 25\n",
      "Forecast length: 30\n",
      "Extracting storm only data...\n",
      "Forecast length: 1\n",
      "Forecast length: 5\n",
      "Forecast length: 10\n",
      "Forecast length: 15\n",
      "Forecast length: 20\n",
      "Forecast length: 25\n",
      "Forecast length: 30\n",
      "{'cluster': 'greenland_cluster', 'region': 'GRL-3', 'features': ['dbht'], 'mean': False, 'std': False, 'maximum': True, 'median': False}\n",
      "{'cluster': 'greenland_cluster', 'region': 'GRL-3', 'features': ['dbht'], 'mean': False, 'std': False, 'maximum': True, 'median': False, 'forecast': 15, 'window': 15, 'classification': False}\n",
      "Forecast: 15, Window: 15, Classification: False\n",
      "Loading station GHB....\n"
     ]
    },
    {
     "name": "stderr",
     "output_type": "stream",
     "text": [
      "/tmp/ipykernel_1281710/1359451739.py:30: FutureWarning: The behavior of DataFrame concatenation with empty or all-NA entries is deprecated. In a future version, this will no longer exclude empty or all-NA columns when determining the result dtypes. To retain the old behavior, exclude the relevant entries before the concat operation.\n",
      "  ratio_df = pd.concat([ratio_df, pd.DataFrame({'forecast':forecast, 'window':window, 'percentage':ratio}, index=[0])], axis=0)\n"
     ]
    },
    {
     "name": "stdout",
     "output_type": "stream",
     "text": [
      "Loading station FHB....\n",
      "Loading station NAQ....\n"
     ]
    },
    {
     "name": "stderr",
     "output_type": "stream",
     "text": [
      "/home/mcoughlan/projects/including_ion_temp_maps/utils.py:278: FutureWarning: The behavior of DataFrame.idxmax with all-NA values, or any-NA and skipna=False, is deprecated. In a future version this will raise ValueError\n",
      "  max_station = rsd.idxmax(axis=1)\n"
     ]
    },
    {
     "name": "stdout",
     "output_type": "stream",
     "text": [
      "Date_UTC not in columns. Check to make sure index is datetime not integer.\n",
      "Forecast length: 1\n",
      "Forecast length: 5\n",
      "Forecast length: 10\n",
      "Forecast length: 15\n",
      "Forecast length: 20\n",
      "Forecast length: 25\n",
      "Forecast length: 30\n",
      "Extracting storm only data...\n"
     ]
    },
    {
     "name": "stderr",
     "output_type": "stream",
     "text": [
      "/tmp/ipykernel_1281710/1359451739.py:30: FutureWarning: The behavior of DataFrame concatenation with empty or all-NA entries is deprecated. In a future version, this will no longer exclude empty or all-NA columns when determining the result dtypes. To retain the old behavior, exclude the relevant entries before the concat operation.\n",
      "  ratio_df = pd.concat([ratio_df, pd.DataFrame({'forecast':forecast, 'window':window, 'percentage':ratio}, index=[0])], axis=0)\n",
      " 40%|████      | 2/5 [2:45:36<4:13:38, 5072.78s/it]"
     ]
    },
    {
     "name": "stdout",
     "output_type": "stream",
     "text": [
      "Forecast length: 1\n",
      "Forecast length: 5\n",
      "Forecast length: 10\n",
      "Forecast length: 15\n",
      "Forecast length: 20\n",
      "Forecast length: 25\n",
      "Forecast length: 30\n",
      "{'cluster': 'fennoscandinavian_cluster', 'region': 'FSC-0', 'features': ['dbht'], 'mean': False, 'std': False, 'maximum': True, 'median': False}\n",
      "{'cluster': 'fennoscandinavian_cluster', 'region': 'FSC-0', 'features': ['dbht'], 'mean': False, 'std': False, 'maximum': True, 'median': False, 'forecast': 15, 'window': 15, 'classification': False}\n",
      "Forecast: 15, Window: 15, Classification: False\n",
      "Loading station RVK....\n",
      "Loading station LYC....\n",
      "Loading station DON....\n",
      "Loading station JCK....\n"
     ]
    },
    {
     "name": "stderr",
     "output_type": "stream",
     "text": [
      "/home/mcoughlan/projects/including_ion_temp_maps/utils.py:278: FutureWarning: The behavior of DataFrame.idxmax with all-NA values, or any-NA and skipna=False, is deprecated. In a future version this will raise ValueError\n",
      "  max_station = rsd.idxmax(axis=1)\n"
     ]
    },
    {
     "name": "stdout",
     "output_type": "stream",
     "text": [
      "Date_UTC not in columns. Check to make sure index is datetime not integer.\n",
      "Forecast length: 1\n",
      "Forecast length: 5\n",
      "Forecast length: 10\n",
      "Forecast length: 15\n",
      "Forecast length: 20\n",
      "Forecast length: 25\n",
      "Forecast length: 30\n",
      "Extracting storm only data...\n",
      "Forecast length: 1\n",
      "Forecast length: 5\n",
      "Forecast length: 10\n",
      "Forecast length: 15\n",
      "Forecast length: 20\n",
      "Forecast length: 25\n",
      "Forecast length: 30\n",
      "{'cluster': 'fennoscandinavian_cluster', 'region': 'FSC-1', 'features': ['dbht'], 'mean': False, 'std': False, 'maximum': True, 'median': False}\n",
      "{'cluster': 'fennoscandinavian_cluster', 'region': 'FSC-1', 'features': ['dbht'], 'mean': False, 'std': False, 'maximum': True, 'median': False, 'forecast': 15, 'window': 15, 'classification': False}\n",
      "Forecast: 15, Window: 15, Classification: False\n",
      "Loading station HAN....\n"
     ]
    },
    {
     "name": "stderr",
     "output_type": "stream",
     "text": [
      "/tmp/ipykernel_1281710/1359451739.py:30: FutureWarning: The behavior of DataFrame concatenation with empty or all-NA entries is deprecated. In a future version, this will no longer exclude empty or all-NA columns when determining the result dtypes. To retain the old behavior, exclude the relevant entries before the concat operation.\n",
      "  ratio_df = pd.concat([ratio_df, pd.DataFrame({'forecast':forecast, 'window':window, 'percentage':ratio}, index=[0])], axis=0)\n"
     ]
    },
    {
     "name": "stdout",
     "output_type": "stream",
     "text": [
      "Loading station MEK....\n",
      "Loading station OUJ....\n",
      "Loading station NUR....\n"
     ]
    },
    {
     "name": "stderr",
     "output_type": "stream",
     "text": [
      "/home/mcoughlan/projects/including_ion_temp_maps/utils.py:278: FutureWarning: The behavior of DataFrame.idxmax with all-NA values, or any-NA and skipna=False, is deprecated. In a future version this will raise ValueError\n",
      "  max_station = rsd.idxmax(axis=1)\n"
     ]
    },
    {
     "name": "stdout",
     "output_type": "stream",
     "text": [
      "Date_UTC not in columns. Check to make sure index is datetime not integer.\n",
      "Forecast length: 1\n",
      "Forecast length: 5\n",
      "Forecast length: 10\n",
      "Forecast length: 15\n",
      "Forecast length: 20\n",
      "Forecast length: 25\n",
      "Forecast length: 30\n",
      "Extracting storm only data...\n",
      "Forecast length: 1\n",
      "Forecast length: 5\n",
      "Forecast length: 10\n",
      "Forecast length: 15\n",
      "Forecast length: 20\n",
      "Forecast length: 25\n",
      "Forecast length: 30\n",
      "{'cluster': 'fennoscandinavian_cluster', 'region': 'FSC-2', 'features': ['dbht'], 'mean': False, 'std': False, 'maximum': True, 'median': False}\n",
      "{'cluster': 'fennoscandinavian_cluster', 'region': 'FSC-2', 'features': ['dbht'], 'mean': False, 'std': False, 'maximum': True, 'median': False, 'forecast': 15, 'window': 15, 'classification': False}\n",
      "Forecast: 15, Window: 15, Classification: False\n",
      "Loading station MAS....\n"
     ]
    },
    {
     "name": "stderr",
     "output_type": "stream",
     "text": [
      "/tmp/ipykernel_1281710/1359451739.py:30: FutureWarning: The behavior of DataFrame concatenation with empty or all-NA entries is deprecated. In a future version, this will no longer exclude empty or all-NA columns when determining the result dtypes. To retain the old behavior, exclude the relevant entries before the concat operation.\n",
      "  ratio_df = pd.concat([ratio_df, pd.DataFrame({'forecast':forecast, 'window':window, 'percentage':ratio}, index=[0])], axis=0)\n"
     ]
    },
    {
     "name": "stdout",
     "output_type": "stream",
     "text": [
      "Loading station NOR....\n",
      "Loading station IVA....\n",
      "Loading station KEV....\n",
      "Loading station KIL....\n",
      "Loading station MUO....\n",
      "Loading station SOR....\n",
      "Loading station TRO....\n",
      "Loading station ABK....\n",
      "Loading station KIR....\n"
     ]
    },
    {
     "name": "stderr",
     "output_type": "stream",
     "text": [
      "/home/mcoughlan/projects/including_ion_temp_maps/utils.py:278: FutureWarning: The behavior of DataFrame.idxmax with all-NA values, or any-NA and skipna=False, is deprecated. In a future version this will raise ValueError\n",
      "  max_station = rsd.idxmax(axis=1)\n"
     ]
    },
    {
     "name": "stdout",
     "output_type": "stream",
     "text": [
      "Date_UTC not in columns. Check to make sure index is datetime not integer.\n",
      "Forecast length: 1\n",
      "Forecast length: 5\n",
      "Forecast length: 10\n",
      "Forecast length: 15\n",
      "Forecast length: 20\n",
      "Forecast length: 25\n",
      "Forecast length: 30\n",
      "Extracting storm only data...\n",
      "Forecast length: 1\n",
      "Forecast length: 5\n",
      "Forecast length: 10\n",
      "Forecast length: 15\n",
      "Forecast length: 20\n",
      "Forecast length: 25\n",
      "Forecast length: 30\n",
      "{'cluster': 'fennoscandinavian_cluster', 'region': 'FSC-3', 'features': ['dbht'], 'mean': False, 'std': False, 'maximum': True, 'median': False}\n",
      "{'cluster': 'fennoscandinavian_cluster', 'region': 'FSC-3', 'features': ['dbht'], 'mean': False, 'std': False, 'maximum': True, 'median': False, 'forecast': 15, 'window': 15, 'classification': False}\n",
      "Forecast: 15, Window: 15, Classification: False\n",
      "Loading station MAS....\n"
     ]
    },
    {
     "name": "stderr",
     "output_type": "stream",
     "text": [
      "/tmp/ipykernel_1281710/1359451739.py:30: FutureWarning: The behavior of DataFrame concatenation with empty or all-NA entries is deprecated. In a future version, this will no longer exclude empty or all-NA columns when determining the result dtypes. To retain the old behavior, exclude the relevant entries before the concat operation.\n",
      "  ratio_df = pd.concat([ratio_df, pd.DataFrame({'forecast':forecast, 'window':window, 'percentage':ratio}, index=[0])], axis=0)\n"
     ]
    },
    {
     "name": "stdout",
     "output_type": "stream",
     "text": [
      "Loading station AND....\n",
      "Loading station KIL....\n",
      "Loading station MUO....\n",
      "Loading station SOR....\n",
      "Loading station TRO....\n",
      "Loading station ABK....\n",
      "Loading station KIR....\n"
     ]
    },
    {
     "name": "stderr",
     "output_type": "stream",
     "text": [
      "/home/mcoughlan/projects/including_ion_temp_maps/utils.py:278: FutureWarning: The behavior of DataFrame.idxmax with all-NA values, or any-NA and skipna=False, is deprecated. In a future version this will raise ValueError\n",
      "  max_station = rsd.idxmax(axis=1)\n"
     ]
    },
    {
     "name": "stdout",
     "output_type": "stream",
     "text": [
      "Date_UTC not in columns. Check to make sure index is datetime not integer.\n",
      "Forecast length: 1\n",
      "Forecast length: 5\n",
      "Forecast length: 10\n",
      "Forecast length: 15\n",
      "Forecast length: 20\n",
      "Forecast length: 25\n",
      "Forecast length: 30\n",
      "Extracting storm only data...\n",
      "Forecast length: 1\n",
      "Forecast length: 5\n",
      "Forecast length: 10\n",
      "Forecast length: 15\n",
      "Forecast length: 20\n",
      "Forecast length: 25\n",
      "Forecast length: 30\n",
      "{'cluster': 'fennoscandinavian_cluster', 'region': 'FSC-4', 'features': ['dbht'], 'mean': False, 'std': False, 'maximum': True, 'median': False}\n",
      "{'cluster': 'fennoscandinavian_cluster', 'region': 'FSC-4', 'features': ['dbht'], 'mean': False, 'std': False, 'maximum': True, 'median': False, 'forecast': 15, 'window': 15, 'classification': False}\n",
      "Forecast: 15, Window: 15, Classification: False\n",
      "Loading station MAS....\n"
     ]
    },
    {
     "name": "stderr",
     "output_type": "stream",
     "text": [
      "/tmp/ipykernel_1281710/1359451739.py:30: FutureWarning: The behavior of DataFrame concatenation with empty or all-NA entries is deprecated. In a future version, this will no longer exclude empty or all-NA columns when determining the result dtypes. To retain the old behavior, exclude the relevant entries before the concat operation.\n",
      "  ratio_df = pd.concat([ratio_df, pd.DataFrame({'forecast':forecast, 'window':window, 'percentage':ratio}, index=[0])], axis=0)\n"
     ]
    },
    {
     "name": "stdout",
     "output_type": "stream",
     "text": [
      "Loading station SOD....\n",
      "Loading station IVA....\n",
      "Loading station KEV....\n",
      "Loading station KIL....\n",
      "Loading station MUO....\n",
      "Loading station ABK....\n",
      "Loading station KIR....\n",
      "Loading station PEL....\n"
     ]
    },
    {
     "name": "stderr",
     "output_type": "stream",
     "text": [
      "/home/mcoughlan/projects/including_ion_temp_maps/utils.py:278: FutureWarning: The behavior of DataFrame.idxmax with all-NA values, or any-NA and skipna=False, is deprecated. In a future version this will raise ValueError\n",
      "  max_station = rsd.idxmax(axis=1)\n"
     ]
    },
    {
     "name": "stdout",
     "output_type": "stream",
     "text": [
      "Date_UTC not in columns. Check to make sure index is datetime not integer.\n",
      "Forecast length: 1\n",
      "Forecast length: 5\n",
      "Forecast length: 10\n",
      "Forecast length: 15\n",
      "Forecast length: 20\n",
      "Forecast length: 25\n",
      "Forecast length: 30\n",
      "Extracting storm only data...\n",
      "Forecast length: 1\n",
      "Forecast length: 5\n",
      "Forecast length: 10\n",
      "Forecast length: 15\n",
      "Forecast length: 20\n",
      "Forecast length: 25\n",
      "Forecast length: 30\n",
      "{'cluster': 'fennoscandinavian_cluster', 'region': 'FSC-5', 'features': ['dbht'], 'mean': False, 'std': False, 'maximum': True, 'median': False}\n",
      "{'cluster': 'fennoscandinavian_cluster', 'region': 'FSC-5', 'features': ['dbht'], 'mean': False, 'std': False, 'maximum': True, 'median': False, 'forecast': 15, 'window': 15, 'classification': False}\n",
      "Forecast: 15, Window: 15, Classification: False\n",
      "Loading station JCK....\n"
     ]
    },
    {
     "name": "stderr",
     "output_type": "stream",
     "text": [
      "/tmp/ipykernel_1281710/1359451739.py:30: FutureWarning: The behavior of DataFrame concatenation with empty or all-NA entries is deprecated. In a future version, this will no longer exclude empty or all-NA columns when determining the result dtypes. To retain the old behavior, exclude the relevant entries before the concat operation.\n",
      "  ratio_df = pd.concat([ratio_df, pd.DataFrame({'forecast':forecast, 'window':window, 'percentage':ratio}, index=[0])], axis=0)\n"
     ]
    },
    {
     "name": "stdout",
     "output_type": "stream",
     "text": [
      "Loading station DON....\n",
      "Loading station ABK....\n",
      "Loading station KIR....\n",
      "Loading station LYC....\n"
     ]
    },
    {
     "name": "stderr",
     "output_type": "stream",
     "text": [
      "/home/mcoughlan/projects/including_ion_temp_maps/utils.py:278: FutureWarning: The behavior of DataFrame.idxmax with all-NA values, or any-NA and skipna=False, is deprecated. In a future version this will raise ValueError\n",
      "  max_station = rsd.idxmax(axis=1)\n"
     ]
    },
    {
     "name": "stdout",
     "output_type": "stream",
     "text": [
      "Date_UTC not in columns. Check to make sure index is datetime not integer.\n",
      "Forecast length: 1\n",
      "Forecast length: 5\n",
      "Forecast length: 10\n",
      "Forecast length: 15\n",
      "Forecast length: 20\n",
      "Forecast length: 25\n",
      "Forecast length: 30\n",
      "Extracting storm only data...\n",
      "Forecast length: 1\n",
      "Forecast length: 5\n",
      "Forecast length: 10\n",
      "Forecast length: 15\n",
      "Forecast length: 20\n",
      "Forecast length: 25\n",
      "Forecast length: 30\n",
      "{'cluster': 'fennoscandinavian_cluster', 'region': 'FSC-6', 'features': ['dbht'], 'mean': False, 'std': False, 'maximum': True, 'median': False}\n",
      "{'cluster': 'fennoscandinavian_cluster', 'region': 'FSC-6', 'features': ['dbht'], 'mean': False, 'std': False, 'maximum': True, 'median': False, 'forecast': 15, 'window': 15, 'classification': False}\n",
      "Forecast: 15, Window: 15, Classification: False\n",
      "Loading station MAS....\n"
     ]
    },
    {
     "name": "stderr",
     "output_type": "stream",
     "text": [
      "/tmp/ipykernel_1281710/1359451739.py:30: FutureWarning: The behavior of DataFrame concatenation with empty or all-NA entries is deprecated. In a future version, this will no longer exclude empty or all-NA columns when determining the result dtypes. To retain the old behavior, exclude the relevant entries before the concat operation.\n",
      "  ratio_df = pd.concat([ratio_df, pd.DataFrame({'forecast':forecast, 'window':window, 'percentage':ratio}, index=[0])], axis=0)\n"
     ]
    },
    {
     "name": "stdout",
     "output_type": "stream",
     "text": [
      "Loading station AND....\n",
      "Loading station KIL....\n",
      "Loading station MUO....\n",
      "Loading station JCK....\n",
      "Loading station TRO....\n",
      "Loading station ABK....\n",
      "Loading station KIR....\n",
      "Loading station PEL....\n"
     ]
    },
    {
     "name": "stderr",
     "output_type": "stream",
     "text": [
      "/home/mcoughlan/projects/including_ion_temp_maps/utils.py:278: FutureWarning: The behavior of DataFrame.idxmax with all-NA values, or any-NA and skipna=False, is deprecated. In a future version this will raise ValueError\n",
      "  max_station = rsd.idxmax(axis=1)\n"
     ]
    },
    {
     "name": "stdout",
     "output_type": "stream",
     "text": [
      "Date_UTC not in columns. Check to make sure index is datetime not integer.\n",
      "Forecast length: 1\n",
      "Forecast length: 5\n",
      "Forecast length: 10\n",
      "Forecast length: 15\n",
      "Forecast length: 20\n",
      "Forecast length: 25\n",
      "Forecast length: 30\n",
      "Extracting storm only data...\n"
     ]
    },
    {
     "name": "stderr",
     "output_type": "stream",
     "text": [
      "/tmp/ipykernel_1281710/1359451739.py:30: FutureWarning: The behavior of DataFrame concatenation with empty or all-NA entries is deprecated. In a future version, this will no longer exclude empty or all-NA columns when determining the result dtypes. To retain the old behavior, exclude the relevant entries before the concat operation.\n",
      "  ratio_df = pd.concat([ratio_df, pd.DataFrame({'forecast':forecast, 'window':window, 'percentage':ratio}, index=[0])], axis=0)\n",
      " 60%|██████    | 3/5 [5:27:47<4:00:00, 7200.03s/it]"
     ]
    },
    {
     "name": "stdout",
     "output_type": "stream",
     "text": [
      "Forecast length: 1\n",
      "Forecast length: 5\n",
      "Forecast length: 10\n",
      "Forecast length: 15\n",
      "Forecast length: 20\n",
      "Forecast length: 25\n",
      "Forecast length: 30\n",
      "{'cluster': 'central_european_cluster', 'region': 'CEU-0', 'features': ['dbht'], 'mean': False, 'std': False, 'maximum': True, 'median': False}\n",
      "{'cluster': 'central_european_cluster', 'region': 'CEU-0', 'features': ['dbht'], 'mean': False, 'std': False, 'maximum': True, 'median': False, 'forecast': 15, 'window': 15, 'classification': False}\n",
      "Forecast: 15, Window: 15, Classification: False\n",
      "Loading station ZAG....\n",
      "Loading station LVV....\n",
      "Loading station BEL....\n",
      "Loading station VYH....\n"
     ]
    },
    {
     "name": "stderr",
     "output_type": "stream",
     "text": [
      "/home/mcoughlan/projects/including_ion_temp_maps/utils.py:278: FutureWarning: The behavior of DataFrame.idxmax with all-NA values, or any-NA and skipna=False, is deprecated. In a future version this will raise ValueError\n",
      "  max_station = rsd.idxmax(axis=1)\n"
     ]
    },
    {
     "name": "stdout",
     "output_type": "stream",
     "text": [
      "Date_UTC not in columns. Check to make sure index is datetime not integer.\n",
      "Forecast length: 1\n",
      "Forecast length: 5\n",
      "Forecast length: 10\n",
      "Forecast length: 15\n",
      "Forecast length: 20\n",
      "Forecast length: 25\n",
      "Forecast length: 30\n",
      "Extracting storm only data...\n",
      "Forecast length: 1\n",
      "Forecast length: 5\n",
      "Forecast length: 10\n",
      "Forecast length: 15\n",
      "Forecast length: 20\n",
      "Forecast length: 25\n",
      "Forecast length: 30\n",
      "{'cluster': 'central_european_cluster', 'region': 'CEU-1', 'features': ['dbht'], 'mean': False, 'std': False, 'maximum': True, 'median': False}\n",
      "{'cluster': 'central_european_cluster', 'region': 'CEU-1', 'features': ['dbht'], 'mean': False, 'std': False, 'maximum': True, 'median': False, 'forecast': 15, 'window': 15, 'classification': False}\n",
      "Forecast: 15, Window: 15, Classification: False\n",
      "Loading station BEL....\n"
     ]
    },
    {
     "name": "stderr",
     "output_type": "stream",
     "text": [
      "/tmp/ipykernel_1281710/1359451739.py:30: FutureWarning: The behavior of DataFrame concatenation with empty or all-NA entries is deprecated. In a future version, this will no longer exclude empty or all-NA columns when determining the result dtypes. To retain the old behavior, exclude the relevant entries before the concat operation.\n",
      "  ratio_df = pd.concat([ratio_df, pd.DataFrame({'forecast':forecast, 'window':window, 'percentage':ratio}, index=[0])], axis=0)\n"
     ]
    },
    {
     "name": "stdout",
     "output_type": "stream",
     "text": [
      "Loading station HLP....\n",
      "Loading station SZC....\n",
      "Loading station KLD....\n"
     ]
    },
    {
     "name": "stderr",
     "output_type": "stream",
     "text": [
      "/home/mcoughlan/projects/including_ion_temp_maps/utils.py:278: FutureWarning: The behavior of DataFrame.idxmax with all-NA values, or any-NA and skipna=False, is deprecated. In a future version this will raise ValueError\n",
      "  max_station = rsd.idxmax(axis=1)\n"
     ]
    },
    {
     "name": "stdout",
     "output_type": "stream",
     "text": [
      "Date_UTC not in columns. Check to make sure index is datetime not integer.\n",
      "Forecast length: 1\n",
      "Forecast length: 5\n",
      "Forecast length: 10\n",
      "Forecast length: 15\n",
      "Forecast length: 20\n",
      "Forecast length: 25\n",
      "Forecast length: 30\n",
      "Extracting storm only data...\n",
      "Forecast length: 1\n",
      "Forecast length: 5\n",
      "Forecast length: 10\n",
      "Forecast length: 15\n",
      "Forecast length: 20\n",
      "Forecast length: 25\n",
      "Forecast length: 30\n",
      "{'cluster': 'central_european_cluster', 'region': 'CEU-2', 'features': ['dbht'], 'mean': False, 'std': False, 'maximum': True, 'median': False}\n",
      "{'cluster': 'central_european_cluster', 'region': 'CEU-2', 'features': ['dbht'], 'mean': False, 'std': False, 'maximum': True, 'median': False, 'forecast': 15, 'window': 15, 'classification': False}\n",
      "Forecast: 15, Window: 15, Classification: False\n",
      "Loading station THY....\n"
     ]
    },
    {
     "name": "stderr",
     "output_type": "stream",
     "text": [
      "/tmp/ipykernel_1281710/1359451739.py:30: FutureWarning: The behavior of DataFrame concatenation with empty or all-NA entries is deprecated. In a future version, this will no longer exclude empty or all-NA columns when determining the result dtypes. To retain the old behavior, exclude the relevant entries before the concat operation.\n",
      "  ratio_df = pd.concat([ratio_df, pd.DataFrame({'forecast':forecast, 'window':window, 'percentage':ratio}, index=[0])], axis=0)\n"
     ]
    },
    {
     "name": "stdout",
     "output_type": "stream",
     "text": [
      "Loading station BDV....\n",
      "Loading station WIC....\n",
      "Loading station NCK....\n",
      "Loading station HRB....\n"
     ]
    },
    {
     "name": "stderr",
     "output_type": "stream",
     "text": [
      "/home/mcoughlan/projects/including_ion_temp_maps/utils.py:278: FutureWarning: The behavior of DataFrame.idxmax with all-NA values, or any-NA and skipna=False, is deprecated. In a future version this will raise ValueError\n",
      "  max_station = rsd.idxmax(axis=1)\n"
     ]
    },
    {
     "name": "stdout",
     "output_type": "stream",
     "text": [
      "Date_UTC not in columns. Check to make sure index is datetime not integer.\n",
      "Forecast length: 1\n",
      "Forecast length: 5\n",
      "Forecast length: 10\n",
      "Forecast length: 15\n",
      "Forecast length: 20\n",
      "Forecast length: 25\n",
      "Forecast length: 30\n",
      "Extracting storm only data...\n",
      "Forecast length: 1\n",
      "Forecast length: 5\n",
      "Forecast length: 10\n",
      "Forecast length: 15\n",
      "Forecast length: 20\n",
      "Forecast length: 25\n",
      "Forecast length: 30\n",
      "{'cluster': 'central_european_cluster', 'region': 'CEU-3', 'features': ['dbht'], 'mean': False, 'std': False, 'maximum': True, 'median': False}\n",
      "{'cluster': 'central_european_cluster', 'region': 'CEU-3', 'features': ['dbht'], 'mean': False, 'std': False, 'maximum': True, 'median': False, 'forecast': 15, 'window': 15, 'classification': False}\n",
      "Forecast: 15, Window: 15, Classification: False\n",
      "Loading station ROE....\n"
     ]
    },
    {
     "name": "stderr",
     "output_type": "stream",
     "text": [
      "/tmp/ipykernel_1281710/1359451739.py:30: FutureWarning: The behavior of DataFrame concatenation with empty or all-NA entries is deprecated. In a future version, this will no longer exclude empty or all-NA columns when determining the result dtypes. To retain the old behavior, exclude the relevant entries before the concat operation.\n",
      "  ratio_df = pd.concat([ratio_df, pd.DataFrame({'forecast':forecast, 'window':window, 'percentage':ratio}, index=[0])], axis=0)\n"
     ]
    },
    {
     "name": "stdout",
     "output_type": "stream",
     "text": [
      "Loading station BFE....\n",
      "Loading station WNG....\n"
     ]
    },
    {
     "name": "stderr",
     "output_type": "stream",
     "text": [
      "/home/mcoughlan/projects/including_ion_temp_maps/utils.py:278: FutureWarning: The behavior of DataFrame.idxmax with all-NA values, or any-NA and skipna=False, is deprecated. In a future version this will raise ValueError\n",
      "  max_station = rsd.idxmax(axis=1)\n"
     ]
    },
    {
     "name": "stdout",
     "output_type": "stream",
     "text": [
      "Date_UTC not in columns. Check to make sure index is datetime not integer.\n",
      "Forecast length: 1\n",
      "Forecast length: 5\n",
      "Forecast length: 10\n",
      "Forecast length: 15\n",
      "Forecast length: 20\n",
      "Forecast length: 25\n",
      "Forecast length: 30\n",
      "Extracting storm only data...\n"
     ]
    },
    {
     "name": "stderr",
     "output_type": "stream",
     "text": [
      "/tmp/ipykernel_1281710/1359451739.py:30: FutureWarning: The behavior of DataFrame concatenation with empty or all-NA entries is deprecated. In a future version, this will no longer exclude empty or all-NA columns when determining the result dtypes. To retain the old behavior, exclude the relevant entries before the concat operation.\n",
      "  ratio_df = pd.concat([ratio_df, pd.DataFrame({'forecast':forecast, 'window':window, 'percentage':ratio}, index=[0])], axis=0)\n",
      " 80%|████████  | 4/5 [7:00:08<1:49:04, 6544.90s/it]"
     ]
    },
    {
     "name": "stdout",
     "output_type": "stream",
     "text": [
      "Forecast length: 1\n",
      "Forecast length: 5\n",
      "Forecast length: 10\n",
      "Forecast length: 15\n",
      "Forecast length: 20\n",
      "Forecast length: 25\n",
      "Forecast length: 30\n",
      "{'cluster': 'non_cluster_regions', 'region': 'SVLB', 'features': ['dbht'], 'mean': False, 'std': False, 'maximum': True, 'median': False}\n",
      "{'cluster': 'non_cluster_regions', 'region': 'SVLB', 'features': ['dbht'], 'mean': False, 'std': False, 'maximum': True, 'median': False, 'forecast': 15, 'window': 15, 'classification': False}\n",
      "Forecast: 15, Window: 15, Classification: False\n",
      "Loading station BBG....\n",
      "Loading station LYR....\n",
      "Loading station HOR....\n",
      "Loading station NAL....\n",
      "Loading station HRN....\n",
      "Loading station HOP....\n"
     ]
    },
    {
     "name": "stderr",
     "output_type": "stream",
     "text": [
      "/home/mcoughlan/projects/including_ion_temp_maps/utils.py:278: FutureWarning: The behavior of DataFrame.idxmax with all-NA values, or any-NA and skipna=False, is deprecated. In a future version this will raise ValueError\n",
      "  max_station = rsd.idxmax(axis=1)\n"
     ]
    },
    {
     "name": "stdout",
     "output_type": "stream",
     "text": [
      "Date_UTC not in columns. Check to make sure index is datetime not integer.\n",
      "Forecast length: 1\n",
      "Forecast length: 5\n",
      "Forecast length: 10\n",
      "Forecast length: 15\n",
      "Forecast length: 20\n",
      "Forecast length: 25\n",
      "Forecast length: 30\n",
      "Extracting storm only data...\n",
      "Forecast length: 1\n",
      "Forecast length: 5\n",
      "Forecast length: 10\n",
      "Forecast length: 15\n",
      "Forecast length: 20\n",
      "Forecast length: 25\n",
      "Forecast length: 30\n",
      "{'cluster': 'non_cluster_regions', 'region': 'JPN-0', 'features': ['dbht'], 'mean': False, 'std': False, 'maximum': True, 'median': False}\n",
      "{'cluster': 'non_cluster_regions', 'region': 'JPN-0', 'features': ['dbht'], 'mean': False, 'std': False, 'maximum': True, 'median': False, 'forecast': 15, 'window': 15, 'classification': False}\n",
      "Forecast: 15, Window: 15, Classification: False\n",
      "Loading station KUJ....\n"
     ]
    },
    {
     "name": "stderr",
     "output_type": "stream",
     "text": [
      "/tmp/ipykernel_1281710/1359451739.py:30: FutureWarning: The behavior of DataFrame concatenation with empty or all-NA entries is deprecated. In a future version, this will no longer exclude empty or all-NA columns when determining the result dtypes. To retain the old behavior, exclude the relevant entries before the concat operation.\n",
      "  ratio_df = pd.concat([ratio_df, pd.DataFrame({'forecast':forecast, 'window':window, 'percentage':ratio}, index=[0])], axis=0)\n"
     ]
    },
    {
     "name": "stdout",
     "output_type": "stream",
     "text": [
      "Loading station KNY....\n",
      "Loading station KAG....\n"
     ]
    },
    {
     "name": "stderr",
     "output_type": "stream",
     "text": [
      "/home/mcoughlan/projects/including_ion_temp_maps/utils.py:278: FutureWarning: The behavior of DataFrame.idxmax with all-NA values, or any-NA and skipna=False, is deprecated. In a future version this will raise ValueError\n",
      "  max_station = rsd.idxmax(axis=1)\n"
     ]
    },
    {
     "name": "stdout",
     "output_type": "stream",
     "text": [
      "Date_UTC not in columns. Check to make sure index is datetime not integer.\n",
      "Forecast length: 1\n",
      "Forecast length: 5\n",
      "Forecast length: 10\n",
      "Forecast length: 15\n",
      "Forecast length: 20\n",
      "Forecast length: 25\n",
      "Forecast length: 30\n",
      "Extracting storm only data...\n",
      "Forecast length: 1\n",
      "Forecast length: 5\n",
      "Forecast length: 10\n",
      "Forecast length: 15\n",
      "Forecast length: 20\n",
      "Forecast length: 25\n",
      "Forecast length: 30\n",
      "{'cluster': 'non_cluster_regions', 'region': 'JPN-1', 'features': ['dbht'], 'mean': False, 'std': False, 'maximum': True, 'median': False}\n",
      "{'cluster': 'non_cluster_regions', 'region': 'JPN-1', 'features': ['dbht'], 'mean': False, 'std': False, 'maximum': True, 'median': False, 'forecast': 15, 'window': 15, 'classification': False}\n",
      "Forecast: 15, Window: 15, Classification: False\n",
      "Loading station MMB....\n"
     ]
    },
    {
     "name": "stderr",
     "output_type": "stream",
     "text": [
      "/tmp/ipykernel_1281710/1359451739.py:30: FutureWarning: The behavior of DataFrame concatenation with empty or all-NA entries is deprecated. In a future version, this will no longer exclude empty or all-NA columns when determining the result dtypes. To retain the old behavior, exclude the relevant entries before the concat operation.\n",
      "  ratio_df = pd.concat([ratio_df, pd.DataFrame({'forecast':forecast, 'window':window, 'percentage':ratio}, index=[0])], axis=0)\n"
     ]
    },
    {
     "name": "stdout",
     "output_type": "stream",
     "text": [
      "Loading station ASB....\n",
      "Loading station RIK....\n",
      "Loading station MSR....\n"
     ]
    },
    {
     "name": "stderr",
     "output_type": "stream",
     "text": [
      "/home/mcoughlan/projects/including_ion_temp_maps/utils.py:278: FutureWarning: The behavior of DataFrame.idxmax with all-NA values, or any-NA and skipna=False, is deprecated. In a future version this will raise ValueError\n",
      "  max_station = rsd.idxmax(axis=1)\n"
     ]
    },
    {
     "name": "stdout",
     "output_type": "stream",
     "text": [
      "Date_UTC not in columns. Check to make sure index is datetime not integer.\n",
      "Forecast length: 1\n",
      "Forecast length: 5\n",
      "Forecast length: 10\n",
      "Forecast length: 15\n",
      "Forecast length: 20\n",
      "Forecast length: 25\n",
      "Forecast length: 30\n",
      "Extracting storm only data...\n",
      "Forecast length: 1\n",
      "Forecast length: 5\n",
      "Forecast length: 10\n",
      "Forecast length: 15\n",
      "Forecast length: 20\n",
      "Forecast length: 25\n",
      "Forecast length: 30\n",
      "{'cluster': 'non_cluster_regions', 'region': 'ALSK', 'features': ['dbht'], 'mean': False, 'std': False, 'maximum': True, 'median': False}\n",
      "{'cluster': 'non_cluster_regions', 'region': 'ALSK', 'features': ['dbht'], 'mean': False, 'std': False, 'maximum': True, 'median': False, 'forecast': 15, 'window': 15, 'classification': False}\n",
      "Forecast: 15, Window: 15, Classification: False\n",
      "Loading station CMO....\n"
     ]
    },
    {
     "name": "stderr",
     "output_type": "stream",
     "text": [
      "/tmp/ipykernel_1281710/1359451739.py:30: FutureWarning: The behavior of DataFrame concatenation with empty or all-NA entries is deprecated. In a future version, this will no longer exclude empty or all-NA columns when determining the result dtypes. To retain the old behavior, exclude the relevant entries before the concat operation.\n",
      "  ratio_df = pd.concat([ratio_df, pd.DataFrame({'forecast':forecast, 'window':window, 'percentage':ratio}, index=[0])], axis=0)\n"
     ]
    },
    {
     "name": "stdout",
     "output_type": "stream",
     "text": [
      "Loading station FYU....\n",
      "Loading station PKR....\n",
      "Loading station GAK....\n"
     ]
    },
    {
     "name": "stderr",
     "output_type": "stream",
     "text": [
      "/home/mcoughlan/projects/including_ion_temp_maps/utils.py:278: FutureWarning: The behavior of DataFrame.idxmax with all-NA values, or any-NA and skipna=False, is deprecated. In a future version this will raise ValueError\n",
      "  max_station = rsd.idxmax(axis=1)\n"
     ]
    },
    {
     "name": "stdout",
     "output_type": "stream",
     "text": [
      "Date_UTC not in columns. Check to make sure index is datetime not integer.\n",
      "Forecast length: 1\n",
      "Forecast length: 5\n",
      "Forecast length: 10\n",
      "Forecast length: 15\n",
      "Forecast length: 20\n",
      "Forecast length: 25\n",
      "Forecast length: 30\n",
      "Extracting storm only data...\n",
      "Forecast length: 1\n",
      "Forecast length: 5\n",
      "Forecast length: 10\n",
      "Forecast length: 15\n",
      "Forecast length: 20\n",
      "Forecast length: 25\n",
      "Forecast length: 30\n",
      "{'cluster': 'non_cluster_regions', 'region': 'HUD-0', 'features': ['dbht'], 'mean': False, 'std': False, 'maximum': True, 'median': False}\n",
      "{'cluster': 'non_cluster_regions', 'region': 'HUD-0', 'features': ['dbht'], 'mean': False, 'std': False, 'maximum': True, 'median': False, 'forecast': 15, 'window': 15, 'classification': False}\n",
      "Forecast: 15, Window: 15, Classification: False\n",
      "Loading station PIN....\n"
     ]
    },
    {
     "name": "stderr",
     "output_type": "stream",
     "text": [
      "/tmp/ipykernel_1281710/1359451739.py:30: FutureWarning: The behavior of DataFrame concatenation with empty or all-NA entries is deprecated. In a future version, this will no longer exclude empty or all-NA columns when determining the result dtypes. To retain the old behavior, exclude the relevant entries before the concat operation.\n",
      "  ratio_df = pd.concat([ratio_df, pd.DataFrame({'forecast':forecast, 'window':window, 'percentage':ratio}, index=[0])], axis=0)\n"
     ]
    },
    {
     "name": "stdout",
     "output_type": "stream",
     "text": [
      "Loading station ISL....\n",
      "Loading station C05....\n"
     ]
    },
    {
     "name": "stderr",
     "output_type": "stream",
     "text": [
      "/home/mcoughlan/projects/including_ion_temp_maps/utils.py:278: FutureWarning: The behavior of DataFrame.idxmax with all-NA values, or any-NA and skipna=False, is deprecated. In a future version this will raise ValueError\n",
      "  max_station = rsd.idxmax(axis=1)\n"
     ]
    },
    {
     "name": "stdout",
     "output_type": "stream",
     "text": [
      "Date_UTC not in columns. Check to make sure index is datetime not integer.\n",
      "Forecast length: 1\n",
      "Forecast length: 5\n",
      "Forecast length: 10\n",
      "Forecast length: 15\n",
      "Forecast length: 20\n",
      "Forecast length: 25\n",
      "Forecast length: 30\n",
      "Extracting storm only data...\n",
      "Forecast length: 1\n",
      "Forecast length: 5\n",
      "Forecast length: 10\n",
      "Forecast length: 15\n",
      "Forecast length: 20\n",
      "Forecast length: 25\n",
      "Forecast length: 30\n",
      "{'cluster': 'non_cluster_regions', 'region': 'HUD-1', 'features': ['dbht'], 'mean': False, 'std': False, 'maximum': True, 'median': False}\n",
      "{'cluster': 'non_cluster_regions', 'region': 'HUD-1', 'features': ['dbht'], 'mean': False, 'std': False, 'maximum': True, 'median': False, 'forecast': 15, 'window': 15, 'classification': False}\n",
      "Forecast: 15, Window: 15, Classification: False\n",
      "Loading station FCC....\n"
     ]
    },
    {
     "name": "stderr",
     "output_type": "stream",
     "text": [
      "/tmp/ipykernel_1281710/1359451739.py:30: FutureWarning: The behavior of DataFrame concatenation with empty or all-NA entries is deprecated. In a future version, this will no longer exclude empty or all-NA columns when determining the result dtypes. To retain the old behavior, exclude the relevant entries before the concat operation.\n",
      "  ratio_df = pd.concat([ratio_df, pd.DataFrame({'forecast':forecast, 'window':window, 'percentage':ratio}, index=[0])], axis=0)\n"
     ]
    },
    {
     "name": "stdout",
     "output_type": "stream",
     "text": [
      "Loading station EKP....\n",
      "Loading station RAN....\n",
      "Loading station BLC....\n"
     ]
    },
    {
     "name": "stderr",
     "output_type": "stream",
     "text": [
      "/home/mcoughlan/projects/including_ion_temp_maps/utils.py:278: FutureWarning: The behavior of DataFrame.idxmax with all-NA values, or any-NA and skipna=False, is deprecated. In a future version this will raise ValueError\n",
      "  max_station = rsd.idxmax(axis=1)\n"
     ]
    },
    {
     "name": "stdout",
     "output_type": "stream",
     "text": [
      "Date_UTC not in columns. Check to make sure index is datetime not integer.\n",
      "Forecast length: 1\n",
      "Forecast length: 5\n",
      "Forecast length: 10\n",
      "Forecast length: 15\n",
      "Forecast length: 20\n",
      "Forecast length: 25\n",
      "Forecast length: 30\n",
      "Extracting storm only data...\n"
     ]
    },
    {
     "name": "stderr",
     "output_type": "stream",
     "text": [
      "/tmp/ipykernel_1281710/1359451739.py:30: FutureWarning: The behavior of DataFrame concatenation with empty or all-NA entries is deprecated. In a future version, this will no longer exclude empty or all-NA columns when determining the result dtypes. To retain the old behavior, exclude the relevant entries before the concat operation.\n",
      "  ratio_df = pd.concat([ratio_df, pd.DataFrame({'forecast':forecast, 'window':window, 'percentage':ratio}, index=[0])], axis=0)\n",
      "100%|██████████| 5/5 [9:18:07<00:00, 6697.46s/it]  "
     ]
    },
    {
     "name": "stdout",
     "output_type": "stream",
     "text": [
      "Forecast length: 1\n",
      "Forecast length: 5\n",
      "Forecast length: 10\n",
      "Forecast length: 15\n",
      "Forecast length: 20\n",
      "Forecast length: 25\n",
      "Forecast length: 30\n"
     ]
    },
    {
     "name": "stderr",
     "output_type": "stream",
     "text": [
      "\n"
     ]
    }
   ],
   "source": [
    "# for cluster in tqdm(clusters.keys()):\n",
    "# \tfor region in clusters[cluster]['regions'].keys():\n",
    "\n",
    "# \t\tRP = utils.RegionPreprocessing(cluster,region, features=['dbht'], maximum=True)\n",
    "# \t\tregion_df = RP()\n",
    "# \t\tdates = getting_storm_times(region_df, twins=True)\n",
    "\n",
    "# \t\tclass_df = pd.DataFrame()\n",
    "# \t\tfor forecast in forecasts:\n",
    "# \t\t\tprint(f'Forecast length: {forecast}')\n",
    "# \t\t\tfor window in windows:\n",
    "\t\t\t\t\n",
    "# \t\t\t\ttemp_df = RP.classification_column(df=region_df, param='rsd', forecast=forecast, window=window)\n",
    "\n",
    "# \t\t\t\tclass_df[f'forecast_{forecast}_window_{window}'] = temp_df['classification']\n",
    "\n",
    "# \t\tprint('Extracting storm only data...')\n",
    "# \t\tstorms = extracting_storm_only_data(class_df, dates)\n",
    "\n",
    "# \t\tratio_df = pd.DataFrame(columns=['forecast', 'window', 'percentage'], index=[0])\n",
    "\n",
    "# \t\tfor forecast in forecasts:\n",
    "# \t\t\tprint(f'Forecast length: {forecast}')\n",
    "# \t\t\tfor window in windows:\n",
    "\n",
    "# \t\t\t\ttest = storms[f'forecast_{forecast}_window_{window}']\n",
    "\n",
    "# \t\t\t\tratio = test.sum()/len(test)\n",
    "\n",
    "# \t\t\t\tratio_df = pd.concat([ratio_df, pd.DataFrame({'forecast':forecast, 'window':window, 'percentage':ratio}, index=[0])], axis=0)\n",
    "\t\t\n",
    "\n",
    "# \t\tratio_df = ratio_df.dropna().reset_index(drop=True, inplace=False)\n",
    "# \t\tclusters[cluster]['regions'][region]['ratios'] = ratio_df"
   ]
  },
  {
   "cell_type": "code",
   "execution_count": null,
   "metadata": {},
   "outputs": [],
   "source": [
    "# # turning teh ratio df into a pivot table\n",
    "# pivot = ratio_df.pivot_table(index='forecast', columns='window', values='percentage')\n",
    "\n",
    "# fig, axes = plt.subplots(1, 1, figsize=(10, 10))\n",
    "# axes.set_title('Percentage of threshold crossings')\n",
    "# im = axes.imshow(pivot, cmap='viridis')\n",
    "# fig.colorbar(im)\n",
    "# axes.set_xticks(np.arange(len(windows)))\n",
    "# axes.set_xticklabels(windows)\n",
    "# axes.set_xlabel('Window')\n",
    "# axes.set_yticks(np.arange(len(forecasts)))\n",
    "# axes.set_yticklabels(forecasts)\n",
    "# axes.set_ylabel('Forecast')\n",
    "# plt.show()"
   ]
  },
  {
   "cell_type": "code",
   "execution_count": null,
   "metadata": {},
   "outputs": [],
   "source": [
    "with open('outputs/clusters_with_ratios.pkl', 'wb') as f:\n",
    "\tpickle.dump(clusters, f)"
   ]
  },
  {
   "cell_type": "code",
   "execution_count": null,
   "metadata": {},
   "outputs": [],
   "source": []
  }
 ],
 "metadata": {
  "kernelspec": {
   "display_name": "Python 3",
   "language": "python",
   "name": "python3"
  },
  "language_info": {
   "codemirror_mode": {
    "name": "ipython",
    "version": 3
   },
   "file_extension": ".py",
   "mimetype": "text/x-python",
   "name": "python",
   "nbconvert_exporter": "python",
   "pygments_lexer": "ipython3",
   "version": "3.11.7"
  }
 },
 "nbformat": 4,
 "nbformat_minor": 2
}
